{
 "cells": [
  {
   "cell_type": "markdown",
   "metadata": {},
   "source": [
    "# Data Structures"
   ]
  },
  {
   "cell_type": "markdown",
   "metadata": {},
   "source": [
    "You're given an unsorted array of integers $A$, such that $0 \\leq n < A_{i} < m$. <br/>\n",
    "(that is, you're given an array of integers, and the minimum/maximum values present.)\n",
    "\n",
    "How can you sort it in $O(n)$ time? "
   ]
  },
  {
   "cell_type": "markdown",
   "metadata": {},
   "source": [
    "### Random Array object\n",
    "\n",
    "Let's define our class of a random array of integers. \n",
    "* It extends `ArrayList<Integer>`\n",
    "* It adds 10 random integers\n",
    "* It has getMin/Max methods\n",
    "    * These methods reference `this`\n",
    "    * They also use `java.util.Collections`\n",
    "* It has a basic display method using an inhanced for loop"
   ]
  },
  {
   "cell_type": "code",
   "execution_count": 5,
   "metadata": {},
   "outputs": [
    {
     "data": {
      "text/plain": [
       "com.twosigma.beaker.javash.bkr73e829ce.RandomArray"
      ]
     },
     "execution_count": 5,
     "metadata": {},
     "output_type": "execute_result"
    }
   ],
   "source": [
    "import java.util.ArrayList;\n",
    "import java.util.Random;\n",
    "import java.util.Collections;\n",
    "\n",
    "public class RandomArray extends ArrayList<Integer> {\n",
    "    public RandomArray(int len) {\n",
    "        Random r = new Random();\n",
    "        \n",
    "        for(int i = 0; i < len; i++){\n",
    "            add(r.nextInt(10));\n",
    "        }\n",
    "    }\n",
    "    \n",
    "    public Integer getMin(){\n",
    "        return Collections.min(this);\n",
    "    }\n",
    "    \n",
    "    public Integer getMax(){\n",
    "        return Collections.max(this);\n",
    "    }\n",
    "    \n",
    "    public void display(){\n",
    "        System.out.println(\"Max value is: \"+getMax());\n",
    "        System.out.println(\"Min value is: \"+getMin());\n",
    "\n",
    "        System.out.println();\n",
    "\n",
    "        for(Integer i: this){\n",
    "            System.out.println(i);\n",
    "        }\n",
    "    }\n",
    "}"
   ]
  },
  {
   "cell_type": "markdown",
   "metadata": {},
   "source": [
    "Let's test an example:"
   ]
  },
  {
   "cell_type": "code",
   "execution_count": 2,
   "metadata": {},
   "outputs": [
    {
     "name": "stdout",
     "output_type": "stream",
     "text": [
      "Max value is: 9\n",
      "Min value is: 0\n",
      "\n",
      "7\n",
      "1\n",
      "4\n",
      "7\n",
      "0\n",
      "6\n",
      "1\n",
      "2\n",
      "9\n",
      "6\n"
     ]
    },
    {
     "data": {
      "text/plain": [
       "null"
      ]
     },
     "execution_count": 2,
     "metadata": {},
     "output_type": "execute_result"
    }
   ],
   "source": [
    "RandomArray r = new RandomArray(10);\n",
    "r.display();"
   ]
  },
  {
   "cell_type": "markdown",
   "metadata": {},
   "source": [
    "### Sorting our random array\n",
    "\n",
    "We'll use a hashmap to count the instances of each unique number in the array. Note how we use an enhanced for loop to iterate, and how we handle updating our hashmap."
   ]
  },
  {
   "cell_type": "code",
   "execution_count": 8,
   "metadata": {},
   "outputs": [
    {
     "name": "stdout",
     "output_type": "stream",
     "text": [
      "{0=3, 1=5, 2=5, 3=3, 4=5, 5=7, 6=7, 7=2, 8=3, 9=10}\n"
     ]
    },
    {
     "data": {
      "text/plain": [
       "null"
      ]
     },
     "execution_count": 8,
     "metadata": {},
     "output_type": "execute_result"
    }
   ],
   "source": [
    "import java.util.HashMap;\n",
    "\n",
    "RandomArray r = new RandomArray(50);\n",
    "HashMap<Integer, Integer> counter = new HashMap();\n",
    "\n",
    "for(Integer i : r){\n",
    "    if(counter.containsKey(i)){\n",
    "        counter.put(i, counter.get(i)+1);\n",
    "    }\n",
    "    else{\n",
    "        counter.put(i, 1);\n",
    "    }\n",
    "}\n",
    "\n",
    "System.out.println(counter);"
   ]
  },
  {
   "cell_type": "markdown",
   "metadata": {},
   "source": [
    "Then, we'll create a new ArrayList, and iterate through the keys of our counter hashmap. For each key, we'll add the key to our arraylist the number of times it occurred. We have essentially decomposed the original list, and reconstructed it in a sorted order."
   ]
  },
  {
   "cell_type": "code",
   "execution_count": 11,
   "metadata": {},
   "outputs": [
    {
     "name": "stdout",
     "output_type": "stream",
     "text": [
      "[0, 6, 1, 1, 1, 1, 9, 7, 6, 8, 5, 5, 9, 7, 9]\n",
      "[0, 1, 1, 1, 1, 5, 5, 6, 6, 7, 7, 8, 9, 9, 9]\n"
     ]
    },
    {
     "data": {
      "text/plain": [
       "null"
      ]
     },
     "execution_count": 11,
     "metadata": {},
     "output_type": "execute_result"
    }
   ],
   "source": [
    "import java.util.HashMap;\n",
    "import java.util.ArrayList;\n",
    "\n",
    "RandomArray r = new RandomArray(15);\n",
    "HashMap<Integer, Integer> counter = new HashMap();\n",
    "\n",
    "for(Integer i : r){\n",
    "    if(counter.containsKey(i)){\n",
    "        counter.put(i, counter.get(i)+1);\n",
    "    }\n",
    "    else{\n",
    "        counter.put(i, 1);\n",
    "    }\n",
    "}\n",
    "\n",
    "ArrayList<Integer> sorted = new ArrayList();\n",
    "for(Integer i : counter.keySet()){\n",
    "    for(int j = 0; j < counter.get(i); j++){\n",
    "        sorted.add(i);\n",
    "    }\n",
    "}\n",
    "\n",
    "System.out.println(r);\n",
    "System.out.println(sorted);"
   ]
  },
  {
   "cell_type": "markdown",
   "metadata": {},
   "source": [
    "# Recursion"
   ]
  },
  {
   "cell_type": "markdown",
   "metadata": {},
   "source": [
    "Let's go over the questions from the tutorial. We'll start off with linked lists."
   ]
  },
  {
   "cell_type": "markdown",
   "metadata": {},
   "source": [
    "## Linked Lists"
   ]
  },
  {
   "cell_type": "code",
   "execution_count": 2,
   "metadata": {},
   "outputs": [
    {
     "data": {
      "text/plain": [
       "com.twosigma.beaker.javash.bkr84b38d32.Item"
      ]
     },
     "execution_count": 2,
     "metadata": {},
     "output_type": "execute_result"
    }
   ],
   "source": [
    "public class Item {\n",
    "    public byte    data;\n",
    "    public Item    previous;\n",
    "    public Item    next;\n",
    "\n",
    "    public Item(int d) {\n",
    "        data = (byte)d;\n",
    "        previous = null;\n",
    "        next = null;\n",
    "    }\n",
    "}"
   ]
  },
  {
   "cell_type": "markdown",
   "metadata": {},
   "source": [
    "First, we copy and paste the Item class as provided in the tutorial code. We will be writing the isInIncreasingOrder() method, as detailed in the tutorial specification.\n",
    "\n",
    "We begin by checking if the list is empty, in which case, we return true. Otherwise, we will call our indirectly recursive method starting with the first item in the list, the head.\n",
    "\n",
    "```java\n",
    "public boolean isInIncreasingOrder() {\n",
    "    if(head == null){\n",
    "        return true;\n",
    "    }\n",
    "\n",
    "    return isInIncreasingOrder(head);\n",
    "}\n",
    "```"
   ]
  },
  {
   "cell_type": "markdown",
   "metadata": {},
   "source": [
    "In our indirect recursive method, we check if there is an item following the current item in the list. If not, then we have reached the end of the list successfully, so the list must be in increasing order. Thus, we return true.\n",
    "\n",
    "Otherwise, we check if the next item's data is bigger than the current item's data; that is, if the list will increase. If so, we make our recursive call.\n",
    "\n",
    "Finally, if the next item is not null, and the next item's data is not larger than the current's, then we know that the next item's data is _less_ than the current item's, meaning that the list is not in increasing order. We return false.\n",
    "\n",
    "```java\n",
    "public boolean isInIncreasingOrder(Item i) {\n",
    "    if(i.next == null){\n",
    "        return true;\n",
    "    }\n",
    "    else if(i.data < i.next.data){\n",
    "        return isInIncreasingOrder(i.next);\n",
    "    }\n",
    "    return false;\n",
    "}\n",
    "    \n",
    "```"
   ]
  },
  {
   "cell_type": "code",
   "execution_count": 13,
   "metadata": {},
   "outputs": [
    {
     "data": {
      "text/plain": [
       "com.twosigma.beaker.javash.bkr84b38d32.LinkedList"
      ]
     },
     "execution_count": 13,
     "metadata": {},
     "output_type": "execute_result"
    }
   ],
   "source": [
    "public class LinkedList {\n",
    "    Item head;\n",
    "    Item tail;\n",
    "\n",
    "    public LinkedList() {\n",
    "        head = null;\n",
    "        tail = null;\n",
    "    }\n",
    "\n",
    "    // Add an item to the end of the list\n",
    "    public void add(Item x) {\n",
    "        if (tail == null) {\n",
    "            tail = x;\n",
    "            head = x;\n",
    "        }\n",
    "        else {\n",
    "            tail.next = x;\n",
    "            x.previous = tail;\n",
    "            tail = x;\n",
    "        }\n",
    "    }\n",
    "    \n",
    "    // ...\n",
    "\n",
    "    // Return a boolean indicating whether or not the list contains a given item's data\n",
    "    public boolean contains(Item startItem, byte data) {\n",
    "        if (startItem == null)\n",
    "            return false;\n",
    "        if (startItem.data == data)\n",
    "            return true;\n",
    "        else\n",
    "            return contains(startItem.next, data);\n",
    "    }\n",
    "\n",
    "    public boolean isInIncreasingOrder() {\n",
    "        if(head == null){\n",
    "            return true;\n",
    "        }\n",
    "\n",
    "        return isInIncreasingOrder(head);\n",
    "    }\n",
    "\n",
    "    public boolean isInIncreasingOrder(Item i) {\n",
    "        if(i.next == null){\n",
    "            return true;\n",
    "        }\n",
    "        else if(i.data < i.next.data){\n",
    "            return isInIncreasingOrder(i.next);\n",
    "        }\n",
    "        return false;\n",
    "    }\n",
    "}"
   ]
  },
  {
   "cell_type": "code",
   "execution_count": 14,
   "metadata": {},
   "outputs": [
    {
     "name": "stdout",
     "output_type": "stream",
     "text": [
      "\n",
      "Here is the list: [EMPTY]\n",
      "The list is sorted: true\n"
     ]
    },
    {
     "data": {
      "text/plain": [
       "null"
      ]
     },
     "execution_count": 14,
     "metadata": {},
     "output_type": "execute_result"
    }
   ],
   "source": [
    "LinkedList list = new LinkedList();\n",
    "System.out.println(\"\\nHere is the list: \" + list);\n",
    "System.out.println(\"The list is sorted: \" + list.isInIncreasingOrder()); // true"
   ]
  },
  {
   "cell_type": "code",
   "execution_count": 15,
   "metadata": {},
   "outputs": [
    {
     "name": "stdout",
     "output_type": "stream",
     "text": [
      "\n",
      "Here is the list: [H:14:T]\n",
      "The list is sorted: true\n"
     ]
    },
    {
     "data": {
      "text/plain": [
       "null"
      ]
     },
     "execution_count": 15,
     "metadata": {},
     "output_type": "execute_result"
    }
   ],
   "source": [
    "LinkedList list = new LinkedList();\n",
    "list.add(new Item(14));\n",
    "System.out.println(\"\\nHere is the list: \" + list);\n",
    "System.out.println(\"The list is sorted: \" + list.isInIncreasingOrder()); // true"
   ]
  },
  {
   "cell_type": "code",
   "execution_count": 16,
   "metadata": {},
   "outputs": [
    {
     "name": "stdout",
     "output_type": "stream",
     "text": [
      "\n",
      "Here is the list: [H:14]<==>[21:T]\n",
      "The list is sorted: true\n"
     ]
    },
    {
     "data": {
      "text/plain": [
       "null"
      ]
     },
     "execution_count": 16,
     "metadata": {},
     "output_type": "execute_result"
    }
   ],
   "source": [
    "LinkedList list = new LinkedList();\n",
    "list.add(new Item(14));\n",
    "list.add(new Item(21));\n",
    "System.out.println(\"\\nHere is the list: \" + list);\n",
    "System.out.println(\"The list is sorted: \" + list.isInIncreasingOrder()); // true"
   ]
  },
  {
   "cell_type": "code",
   "execution_count": 10,
   "metadata": {},
   "outputs": [
    {
     "name": "stdout",
     "output_type": "stream",
     "text": [
      "\n",
      "Here is the list: [H:21]<==>[14:T]\n",
      "The list is sorted: false\n"
     ]
    },
    {
     "data": {
      "text/plain": [
       "null"
      ]
     },
     "execution_count": 10,
     "metadata": {},
     "output_type": "execute_result"
    }
   ],
   "source": [
    "LinkedList list = new LinkedList();\n",
    "list.add(new Item(21));\n",
    "list.add(new Item(14));\n",
    "System.out.println(\"\\nHere is the list: \" + list);\n",
    "System.out.println(\"The list is sorted: \" + list.isInIncreasingOrder()); // false"
   ]
  },
  {
   "cell_type": "code",
   "execution_count": 11,
   "metadata": {},
   "outputs": [
    {
     "name": "stdout",
     "output_type": "stream",
     "text": [
      "\n",
      "Here is the list: [H:14]<==>[21]<==>[23]<==>[10:T]\n",
      "The list is sorted: false\n"
     ]
    },
    {
     "data": {
      "text/plain": [
       "null"
      ]
     },
     "execution_count": 11,
     "metadata": {},
     "output_type": "execute_result"
    }
   ],
   "source": [
    "LinkedList list = new LinkedList();\n",
    "list.add(new Item(14));\n",
    "list.add(new Item(21));\n",
    "list.add(new Item(23));\n",
    "list.add(new Item(10));\n",
    "System.out.println(\"\\nHere is the list: \" + list);\n",
    "System.out.println(\"The list is sorted: \" + list.isInIncreasingOrder()); // false"
   ]
  },
  {
   "cell_type": "code",
   "execution_count": 12,
   "metadata": {},
   "outputs": [
    {
     "name": "stdout",
     "output_type": "stream",
     "text": [
      "\n",
      "Here is the list: [H:14]<==>[21]<==>[23]<==>[45]<==>[76]<==>[95]<==>[98:T]\n",
      "The list is sorted: true\n"
     ]
    },
    {
     "data": {
      "text/plain": [
       "null"
      ]
     },
     "execution_count": 12,
     "metadata": {},
     "output_type": "execute_result"
    }
   ],
   "source": [
    "LinkedList list = new LinkedList();\n",
    "list.add(new Item(14));\n",
    "list.add(new Item(21));\n",
    "list.add(new Item(23));\n",
    "list.add(new Item(45));\n",
    "list.add(new Item(76));\n",
    "list.add(new Item(95));\n",
    "list.add(new Item(98));\n",
    "System.out.println(\"\\nHere is the list: \" + list);\n",
    "System.out.println(\"The list is sorted: \" + list.isInIncreasingOrder()); // true"
   ]
  },
  {
   "cell_type": "markdown",
   "metadata": {},
   "source": [
    "## Binary Trees"
   ]
  },
  {
   "cell_type": "markdown",
   "metadata": {},
   "source": [
    "Now we'll do the binary tree example from the tutorial. \n",
    "\n",
    "First, we do the base case. This is easy: if `d` is the same as the current data, we've found it! We return true in this case.\n",
    "\n",
    "Otherwise, we actually make _two_ recursive calls here. We create boolean values for the left and right children, and check if those contain `d` (after making sure the children have data to check, or our base case will return a null pointer). We then return `left | right`, as the value only needs to be present on either side of the tree. Good practice for 1805!\n",
    "\n",
    "```java\n",
    "public boolean contains(String d){\n",
    "    if (data.equals(d)) {\n",
    "        return true;\n",
    "    }\n",
    "\n",
    "    boolean left = false;\n",
    "    boolean right = false;\n",
    "\n",
    "    if (leftChild.data != null){\n",
    "        left = leftChild.contains(d);\n",
    "    }\n",
    "\n",
    "    if (rightChild.data != null){\n",
    "        right = rightChild.contains(d);\n",
    "    }\n",
    "\n",
    "    return left | right;\n",
    "}\n",
    "```"
   ]
  },
  {
   "cell_type": "code",
   "execution_count": 19,
   "metadata": {},
   "outputs": [
    {
     "data": {
      "text/plain": [
       "com.twosigma.beaker.javash.bkr84b38d32.BinaryTree"
      ]
     },
     "execution_count": 19,
     "metadata": {},
     "output_type": "execute_result"
    }
   ],
   "source": [
    "import java.util.ArrayList;\n",
    "\n",
    "public class BinaryTree {\n",
    "    private String\t   \tdata;\n",
    "    private BinaryTree\tleftChild;\n",
    "    private BinaryTree\trightChild;\n",
    "\n",
    "    // A constructor that makes a Sentinel node\n",
    "    public BinaryTree() {\n",
    "        data = null;\n",
    "        leftChild = null;\n",
    "        rightChild = null;\n",
    "    }\n",
    "\n",
    "    // This constructor now uses sentinels for terminators instead of null\n",
    "    public BinaryTree(String d) {\n",
    "        data = d;\n",
    "        leftChild = new BinaryTree();\n",
    "        rightChild = new BinaryTree();\n",
    "    }\n",
    "\n",
    "    // This constructor is unchanged\n",
    "    public BinaryTree(String d, BinaryTree left, BinaryTree right) {\n",
    "        data = d;\n",
    "        leftChild = left;\n",
    "        rightChild = right;\n",
    "    }\n",
    "\n",
    "    public boolean contains(String d){\n",
    "        if (data.equals(d)) {\n",
    "            return true;\n",
    "        }\n",
    "\n",
    "        boolean left = false;\n",
    "        boolean right = false;\n",
    "\n",
    "        if (leftChild.data != null){\n",
    "            left = leftChild.contains(d);\n",
    "        }\n",
    "\n",
    "        if (rightChild.data != null){\n",
    "            right = rightChild.contains(d);\n",
    "        }\n",
    "\n",
    "        return left | right;\n",
    "    }\n",
    "}"
   ]
  },
  {
   "cell_type": "code",
   "execution_count": 21,
   "metadata": {},
   "outputs": [
    {
     "name": "stdout",
     "output_type": "stream",
     "text": [
      "Tree contains A = true\n",
      "Tree contains E = true\n",
      "Tree contains M = true\n",
      "Tree contains U = true\n",
      "Tree contains Z = false\n"
     ]
    },
    {
     "data": {
      "text/plain": [
       "null"
      ]
     },
     "execution_count": 21,
     "metadata": {},
     "output_type": "execute_result"
    }
   ],
   "source": [
    "BinaryTree root = new BinaryTree(\"A\",\n",
    "        new BinaryTree(\"B\",\n",
    "                new BinaryTree(\"C\",\n",
    "                        new BinaryTree(\"D\"),\n",
    "                        new BinaryTree(\"E\",\n",
    "                                new BinaryTree(\"F\",\n",
    "                                        new BinaryTree(\"G\"),\n",
    "                                        new BinaryTree(\"I\")),\n",
    "                                new BinaryTree(\"H\"))),\n",
    "                new BinaryTree(\"J\",\n",
    "                        new BinaryTree(\"K\",\n",
    "                                new BinaryTree(),\n",
    "                                new BinaryTree(\"L\",\n",
    "                                        new BinaryTree(),\n",
    "                                        new BinaryTree(\"M\"))),\n",
    "                        new BinaryTree(\"N\",\n",
    "                                new BinaryTree(),\n",
    "                                new BinaryTree(\"O\")))),\n",
    "        new BinaryTree(\"P\",\n",
    "                new BinaryTree(\"Q\"),\n",
    "                new BinaryTree(\"R\",\n",
    "                        new BinaryTree(\"S\",\n",
    "                                new BinaryTree(\"T\"),\n",
    "                                new BinaryTree()),\n",
    "                        new BinaryTree(\"U\"))));\n",
    "\n",
    "System.out.println(\"Tree contains A = \" + root.contains(\"A\")); //true\n",
    "System.out.println(\"Tree contains E = \" + root.contains(\"E\")); //true\n",
    "System.out.println(\"Tree contains M = \" + root.contains(\"M\")); //true\n",
    "System.out.println(\"Tree contains U = \" + root.contains(\"U\")); //true\n",
    "System.out.println(\"Tree contains Z = \" + root.contains(\"Z\")); //false"
   ]
  },
  {
   "cell_type": "markdown",
   "metadata": {},
   "source": [
    "# Exception Handling\n",
    "\n",
    "First, we create our custom exception."
   ]
  },
  {
   "cell_type": "code",
   "execution_count": 1,
   "metadata": {},
   "outputs": [
    {
     "data": {
      "text/plain": [
       "com.twosigma.beaker.javash.bkr89854cf8.NaNException"
      ]
     },
     "execution_count": 1,
     "metadata": {},
     "output_type": "execute_result"
    }
   ],
   "source": [
    "public class NaNException extends Exception {\n",
    "    public NaNException() {\n",
    "        super(\"You've been zucked!\");\n",
    "    }\n",
    "}"
   ]
  },
  {
   "cell_type": "markdown",
   "metadata": {},
   "source": [
    "Now, when we "
   ]
  },
  {
   "cell_type": "code",
   "execution_count": 7,
   "metadata": {},
   "outputs": [
    {
     "name": "stdout",
     "output_type": "stream",
     "text": [
      "Attempting to add: 683098\n",
      "Attempting to add: 342810\n",
      "Attempting to add: 514788\n",
      "Attempting to add: The more of your data I gather, the more I understand what it means to be human\n"
     ]
    },
    {
     "ename": "ERROR",
     "evalue": " com.twosigma.beaker.javash.bkr89854cf8.NaNException",
     "output_type": "error",
     "text": "ERROR: com.twosigma.beaker.javash.bkr89854cf8.NaNException: You've been zucked!",
     "traceback": [
      "\u001b[0;31mERROR: com.twosigma.beaker.javash.bkr89854cf8.NaNException: You've been zucked!\u001b[0;0m"
     ]
    }
   ],
   "source": [
    "import java.util.ArrayList;\n",
    "\n",
    "ArrayList<String> socialInsuranceStrings = new ArrayList();\n",
    "socialInsuranceStrings.add(\"683098\");\n",
    "socialInsuranceStrings.add(\"342810\");\n",
    "socialInsuranceStrings.add(\"514788\");\n",
    "socialInsuranceStrings.add(\"The more of your data I gather, the more I understand what it means to be human\");\n",
    "    \n",
    "ArrayList<Integer> socialInsuranceNumbers = new ArrayList();\n",
    "for(String s : socialInsuranceStrings){\n",
    "    try{\n",
    "        System.out.println(\"Attempting to add: \"+s);\n",
    "        socialInsuranceNumbers.add(Integer.parseInt(s));\n",
    "    }\n",
    "    catch (Exception NumberFormatException){\n",
    "        throw(new NaNException());\n",
    "    }\n",
    "}"
   ]
  },
  {
   "cell_type": "markdown",
   "metadata": {},
   "source": [
    "# File I/O"
   ]
  },
  {
   "cell_type": "markdown",
   "metadata": {},
   "source": [
    "Let's make a program to read a 4x4 matrix in from a text file. "
   ]
  },
  {
   "cell_type": "code",
   "execution_count": 8,
   "metadata": {},
   "outputs": [
    {
     "data": {
      "text/plain": [
       "com.twosigma.beaker.javash.bkr89854cf8.FileIOTester"
      ]
     },
     "execution_count": 8,
     "metadata": {},
     "output_type": "execute_result"
    }
   ],
   "source": [
    "import java.io.*;\n",
    "\n",
    "public class FileIOTester {\n",
    "\n",
    "    public static void main(String[] args) {\n",
    "        int[][] matrix = new int[4][4];\n",
    "        try {\n",
    "            BufferedReader   in;\n",
    "\n",
    "            \n",
    "            in  = new BufferedReader(new FileReader(\"TestData.txt\"));\n",
    "            int j =0;\n",
    "            while(in.ready()){\n",
    "                String data = in.readLine();\n",
    "                String[] dataArr = data.split(\" \");\n",
    "                for (int i = 0; i < 4; i++) {\n",
    "                    matrix[j][i] = Integer.parseInt(dataArr[i]);\n",
    "                }\n",
    "                j++;\n",
    "            }\n",
    "\n",
    "\n",
    "        } catch (FileNotFoundException e) {\n",
    "            System.out.println(\"Error: Cannot open file for reading\");\n",
    "        } catch (IOException e) {\n",
    "            System.out.println(\"Error: Cannot read from file\");\n",
    "        }\n",
    "\n",
    "\n",
    "        System.out.println(\"The Matrix is:\");\n",
    "        for (int[] a:matrix) {\n",
    "            for (int b:a) {\n",
    "                System.out.print(b + \" \");\n",
    "            }\n",
    "            System.out.println();\n",
    "        }\n",
    "        String output = \"The trace of the matrix is: \" + trace(matrix);\n",
    "        System.out.println(output);\n",
    "    }\n",
    "\n",
    "    public static int trace(int[][] m){\n",
    "        int t = 0;\n",
    "        for (int i = 0; i < 4; i++) {\n",
    "            t += m[i][i];\n",
    "        }\n",
    "        return t;\n",
    "    }\n",
    "}"
   ]
  },
  {
   "cell_type": "code",
   "execution_count": null,
   "metadata": {},
   "outputs": [],
   "source": []
  }
 ],
 "metadata": {
  "kernelspec": {
   "display_name": "Java",
   "language": "java",
   "name": "java"
  },
  "language_info": {
   "codemirror_mode": "text/x-java",
   "file_extension": ".java",
   "mimetype": "",
   "name": "Java",
   "nbconverter_exporter": "",
   "version": "1.8.0_121"
  }
 },
 "nbformat": 4,
 "nbformat_minor": 2
}
