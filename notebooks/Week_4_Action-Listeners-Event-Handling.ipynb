{
 "cells": [
  {
   "metadata": {},
   "cell_type": "markdown",
   "source": "# Week 4: User Interface Extensions\n<hr/>\n## Making a Notepad"
  },
  {
   "metadata": {},
   "cell_type": "markdown",
   "source": "Today, we'll be making a rough Google Keep clone."
  },
  {
   "metadata": {},
   "cell_type": "markdown",
   "source": "### Sticky Notes"
  },
  {
   "metadata": {},
   "cell_type": "markdown",
   "source": "We'll start off with the rough outline of a sticky note. Notice that it's a BorderPane; this lets us anchor the title and text."
  },
  {
   "metadata": {
    "trusted": true
   },
   "cell_type": "code",
   "source": "import javafx.scene.control.*;\nimport javafx.scene.layout.HBox;\nimport javafx.scene.layout.Pane;\nimport javafx.scene.layout.BorderPane;\n\npublic class StickyNote extends BorderPane {\n    public StickyNote(){\n        // Make a sticky note\n    }\n}",
   "execution_count": null,
   "outputs": []
  },
  {
   "metadata": {},
   "cell_type": "markdown",
   "source": "Now we'll add some basic properties. We'll add a few style instance variables, the placeholder text and title, and a couple of buttons."
  },
  {
   "metadata": {
    "trusted": true
   },
   "cell_type": "code",
   "source": "public class StickyNote extends BorderPane {\n    String noteStyle = \"-fx-text-fill: black; -fx-background-color: white; -fx-border-color: black;\";\n    String textFieldStyle = \"-fx-background-color: transparent; -fx-border: gone;\";\n\n    String text = \"Your text here...\";\n    String title = \"Title...\";\n\n    Button close = new Button(\"X\");\n    RadioButton move = new RadioButton();\n    \n    public StickyNote(){\n        // Make a sticky note\n    }\n}",
   "execution_count": null,
   "outputs": []
  },
  {
   "metadata": {},
   "cell_type": "markdown",
   "source": "Let's take a look at our buttons. We'll style them very briefly and then return an HBox containing them. We keep them in an HBox so that they're horizontally stacked."
  },
  {
   "metadata": {
    "trusted": true
   },
   "cell_type": "code",
   "source": "public HBox buttonGroup(){\n        HBox buttonGroup = new HBox();\n\n        close.setTranslateY(-3.5);\n        close.setTranslateX(-2);\n        close.setStyle(\"-fx-text-fill: red;\"+textFieldStyle);\n\n        buttonGroup.getChildren().addAll(move, close);\n        return buttonGroup;\n    }",
   "execution_count": null,
   "outputs": []
  },
  {
   "metadata": {},
   "cell_type": "markdown",
   "source": "We'll also define getters for our buttons, for use with event handlers."
  },
  {
   "metadata": {
    "trusted": true
   },
   "cell_type": "code",
   "source": "public Button getClose(){\n        return close;\n    }\n\n    public RadioButton getMove() {\n        return move;\n    }",
   "execution_count": null,
   "outputs": []
  },
  {
   "metadata": {},
   "cell_type": "markdown",
   "source": "We'll use the buttons in our title pane, which we make using a helper function, along with a TextField for the title of our note."
  },
  {
   "metadata": {
    "trusted": true
   },
   "cell_type": "code",
   "source": "public Pane titlePane(){\n        Pane noteTitle = new Pane();\n        noteTitle.setPrefWidth(200);\n        noteTitle.setStyle(\"-fx-border-width: 0 0 1 0; -fx-border-color: black; -fx-padding: 2 0 2 0;\");\n\n        TextField titleText = new TextField(title);\n        titleText.setStyle(\"-fx-font-size: 12pt; \"+textFieldStyle);\n        titleText.setPrefWidth(160);\n\n        Pane buttons = buttonGroup();\n        buttons.relocate(161,5);\n\n        noteTitle.getChildren().addAll(titleText, buttons);\n        return noteTitle;\n    }",
   "execution_count": null,
   "outputs": []
  },
  {
   "metadata": {},
   "cell_type": "markdown",
   "source": "Then we'll make a text pane with another helper function, using a TextArea rather than TextField to give the user a bit more room to type."
  },
  {
   "metadata": {
    "trusted": true
   },
   "cell_type": "code",
   "source": "public Pane textPane(){\n        Pane noteText = new Pane();\n\n        TextArea bodyText = new TextArea(text);\n        bodyText.setStyle(textFieldStyle);\n        bodyText.setPrefSize(190,145);\n\n        noteText.getChildren().addAll(bodyText);\n        return noteText;\n\n    }",
   "execution_count": null,
   "outputs": []
  },
  {
   "metadata": {},
   "cell_type": "markdown",
   "source": "So, putting it all together, we have the StickyNote class:"
  },
  {
   "metadata": {
    "trusted": true
   },
   "cell_type": "code",
   "source": "import javafx.scene.control.*;\nimport javafx.scene.layout.HBox;\nimport javafx.scene.layout.Pane;\nimport javafx.scene.layout.BorderPane;\n\npublic class StickyNote extends BorderPane {\n    String noteStyle = \"-fx-text-fill: black; -fx-background-color: white; -fx-border-color: black;\";\n    String textFieldStyle = \"-fx-background-color: transparent; -fx-border: gone;\";\n\n    String text = \"Your text here...\";\n    String title = \"Title\";\n\n    Button close = new Button(\"X\");\n    RadioButton move = new RadioButton();\n\n    public StickyNote(){\n        setStyle(noteStyle);\n        setPrefSize(200,200);\n\n        // using our helper functions\n        Pane noteTitle = titlePane();\n        Pane noteText = textPane();\n\n        // anchoring our title and text\n        setTop(noteTitle);\n        setCenter(noteText);\n    }\n\n    public Pane titlePane(){\n        Pane noteTitle = new Pane();\n        noteTitle.setPrefWidth(200);\n        noteTitle.setStyle(\"-fx-border-width: 0 0 1 0; -fx-border-color: black; -fx-padding: 2 0 2 0;\");\n\n        TextField titleText = new TextField(title);\n        titleText.setStyle(\"-fx-font-size: 12pt; \"+textFieldStyle);\n        titleText.setPrefWidth(160);\n\n        Pane buttons = buttonGroup();\n        buttons.relocate(161,5);\n\n        noteTitle.getChildren().addAll(titleText, buttons);\n        return noteTitle;\n    }\n\n    public Pane textPane(){\n        Pane noteText = new Pane();\n\n        TextArea bodyText = new TextArea(text);\n        bodyText.setStyle(textFieldStyle);\n        bodyText.setPrefSize(190,145);\n\n        noteText.getChildren().addAll(bodyText);\n        return noteText;\n\n    }\n\n    public Pane buttonGroup(){\n        HBox buttonGroup = new HBox();\n\n        close.setTranslateY(-3.5);\n        close.setTranslateX(-2);\n        close.setStyle(\"-fx-text-fill: red;\"+textFieldStyle);\n\n        buttonGroup.getChildren().addAll(move, close);\n        return buttonGroup;\n    }\n\n    public Button getClose(){\n        return close;\n    }\n\n    public RadioButton getMove() {\n        return move;\n    }\n}",
   "execution_count": null,
   "outputs": []
  },
  {
   "metadata": {},
   "cell_type": "markdown",
   "source": "And a basic sticky note looks like:"
  },
  {
   "metadata": {},
   "cell_type": "markdown",
   "source": "![sticky note](https://i.imgur.com/mAt398k.png)"
  },
  {
   "metadata": {},
   "cell_type": "markdown",
   "source": "### Sticky Note App"
  },
  {
   "metadata": {},
   "cell_type": "markdown",
   "source": "Now we'll get into the app. We start off with the imports and the brief outline of our app:"
  },
  {
   "metadata": {
    "trusted": true
   },
   "cell_type": "code",
   "source": "import javafx.application.Application;\nimport javafx.event.EventHandler;\nimport javafx.geometry.Insets;\nimport javafx.scene.Node;\nimport javafx.scene.Scene;\nimport javafx.scene.input.*;\nimport javafx.scene.layout.BorderPane;\nimport javafx.scene.layout.GridPane;\nimport javafx.scene.layout.Pane;\nimport javafx.stage.Stage;\nimport java.util.Stack;\n\n\npublic class StickyNoteApp extends Application {\n    public static void main(String[] args) {\n        launch(args);\n    }\n\n    @Override\n    public void start(Stage primaryStage) {\n        // do stuff here\n    }\n}",
   "execution_count": null,
   "outputs": []
  },
  {
   "metadata": {},
   "cell_type": "markdown",
   "source": "Let's set a few instance variables and properties, including a GridPane. We'll have the GridPane store our notes in, well, a grid!"
  },
  {
   "metadata": {
    "trusted": true
   },
   "cell_type": "code",
   "source": "public class StickyNoteApp extends Application {\n    int rows = 2;\n    int cols = 3;\n    GridPane notepad;\n    BorderPane outer = new BorderPane();\n\n    public static void main(String[] args) {\n        launch(args);\n    }\n\n    @Override\n    public void start(Stage primaryStage) {\n        notepad = new GridPane();\n\n        notepad.setPadding(new Insets(10, 10, 10, 10));\n        notepad.setHgap(1);\n        notepad.setVgap(1);\n\n        notepad.setStyle(\"-fx-background-color: #cac8ca\");\n\n        // add stuff to our notepad\n\n        outer.setCenter(notepad);\n\n        primaryStage.setScene(new Scene(outer));\n        primaryStage.setTitle(\"Google Keep v2\");\n        primaryStage.show();\n    }\n}",
   "execution_count": null,
   "outputs": []
  },
  {
   "metadata": {},
   "cell_type": "markdown",
   "source": "For now, though, our notepad is null. We need to make it empty. For a good demonstration of the difference between null versus empty, see this helpful resource:\n\n![image](https://i1.wp.com/josjong.com/wp-content/uploads/2017/10/toilet-rolls.jpg?w=1435&ssl=1)."
  },
  {
   "metadata": {},
   "cell_type": "markdown",
   "source": "Let's just add an _empty_ Pane in each square of the grid."
  },
  {
   "metadata": {
    "trusted": true
   },
   "cell_type": "code",
   "source": "for (int i = 0; i < rows; i++) {\n            for (int j = 0; j < cols; j++) {\n                Pane p = new Pane();\n                p.setPrefSize(200, 200);\n                notepad.add(p, i, j);\n            }\n        }",
   "execution_count": null,
   "outputs": []
  },
  {
   "metadata": {},
   "cell_type": "markdown",
   "source": "Then, we'll allow the user to add a Sticky Note by clicking on a square within the grid. We'll do this by adding an action listener to `p`."
  },
  {
   "metadata": {
    "trusted": true
   },
   "cell_type": "code",
   "source": "p.setOnMouseClicked(new EventHandler<MouseEvent>() {\n                    public void handle(MouseEvent e) {\n                        StickyNote sticky = new StickyNote();\n\n                        ((Pane) e.getSource()).getChildren().add(sticky);\n                    }\n                });",
   "execution_count": null,
   "outputs": []
  },
  {
   "metadata": {},
   "cell_type": "markdown",
   "source": "It would also be useful to let the user delete their notes. We'll do this using an event handler on `sticky` (nested event handlers! awful!)."
  },
  {
   "metadata": {
    "trusted": true
   },
   "cell_type": "code",
   "source": "p.setOnMouseClicked(new EventHandler<MouseEvent>() {\n                    public void handle(MouseEvent e) {\n                        StickyNote sticky = new StickyNote();\n\n                        sticky.getClose().setOnMouseClicked(new EventHandler<MouseEvent>() {\n                            @Override\n                            public void handle(MouseEvent event) {\n                                ((Pane) e.getSource()).getChildren().remove(sticky);\n                            }\n                        });\n\n                        ((Pane) e.getSource()).getChildren().add(sticky);\n                    }\n                });",
   "execution_count": null,
   "outputs": []
  },
  {
   "metadata": {},
   "cell_type": "markdown",
   "source": "To make things even worse, let's add another event handler. This one will let the user swap the note with another, once they've selected 2 notes.\n\nNotice: `selectedNotes.push(sticky)`. This uses a data structure called a **stack**, which functions like a stack of plates. Can you think of why we want to sue this structure?"
  },
  {
   "metadata": {
    "trusted": true
   },
   "cell_type": "code",
   "source": "p.setOnMouseClicked(new EventHandler<MouseEvent>() {\n                    public void handle(MouseEvent e) {\n                        StickyNote sticky = new StickyNote();\n\n                        sticky.getClose().setOnMouseClicked(new EventHandler<MouseEvent>() {\n                            @Override\n                            public void handle(MouseEvent event) {\n                                ((Pane) e.getSource()).getChildren().remove(sticky);\n                            }\n                        });\n\n                        sticky.getMove().setOnMouseClicked(new EventHandler<MouseEvent>() {\n                            @Override\n                            public void handle(MouseEvent event) {\n                                selectedNotes.push(sticky);\n                                selected++;\n                                if (selected == 2) {\n                                    movePanes();\n                                }\n                            }\n                        });\n\n                        ((Pane) e.getSource()).getChildren().add(sticky);\n                    }\n                });",
   "execution_count": null,
   "outputs": []
  },
  {
   "metadata": {},
   "cell_type": "markdown",
   "source": "We threw a bunch of code into the `movePanes()` method, so let's define it. We'll \"swap\" the notes by deleting them and readding them in the other position (this is the easiest way. trust me).\n\n* We'll set up row and column arrays to find and keep track of which notes to move\n* Notice the weird loking for loops. These are **enhanced for loops**, and are actually much more similar to what we used in COMP1405. Don't worry, we don't need to know them for 1406; they're just used for this specific example.\n* We check which nodes are Sticky Notes and if their move buttons are selected.\n* Then we remove them and then break so as to avoid throwing a concurrent modification exception\n* We'll then **pop** the selected notes off the stack, adding them to the notepad in the right positions"
  },
  {
   "metadata": {
    "trusted": true
   },
   "cell_type": "code",
   "source": "public void movePanes() {\n        int[] rows = new int[2];\n        int[] cols = new int[2];\n        int i = 0;\n\n        for (Node n : notepad.getChildren()) {\n            for (Node c : ((Pane) n).getChildren()) {\n                if (c instanceof StickyNote && ((StickyNote) c).getMove().isSelected()) {\n                    cols[i] = GridPane.getColumnIndex(n);\n                    rows[i] = GridPane.getRowIndex(n);\n                    i++;\n                    ((Pane)n).getChildren().remove(c);\n                    break;\n                }\n            }\n        }\n\n        for(int x = 0; x < 2; x++){\n            StickyNote s = selectedNotes.pop();\n            s.getMove().setSelected(false);\n            notepad.add(s, cols[x], rows[x]);\n        }\n\n        selected = 0;\n    }",
   "execution_count": null,
   "outputs": []
  },
  {
   "metadata": {},
   "cell_type": "markdown",
   "source": "Now we need to go back and add a few instance variables. Let's put it all together:"
  },
  {
   "metadata": {
    "trusted": true
   },
   "cell_type": "code",
   "source": "public class StickyNoteApp extends Application {\n    int rows = 2;\n    int cols = 3;\n    GridPane notepad;\n    BorderPane outer = new BorderPane();\n\n    Stack<StickyNote> selectedNotes = new Stack<StickyNote>();\n    int selected = 0;\n\n    public static void main(String[] args) {\n        launch(args);\n    }\n\n    @Override\n    public void start(Stage primaryStage) {\n        notepad = new GridPane();\n\n        notepad.setPadding(new Insets(10, 10, 10, 10));\n        notepad.setHgap(1);\n        notepad.setVgap(1);\n\n        notepad.setStyle(\"-fx-background-color: #cac8ca\");\n\n        for (int i = 0; i < rows; i++) {\n            for (int j = 0; j < cols; j++) {\n                Pane p = new Pane();\n\n                p.setOnMouseClicked(new EventHandler<MouseEvent>() {\n                    public void handle(MouseEvent e) {\n                        StickyNote sticky = new StickyNote();\n\n                        sticky.getClose().setOnMouseClicked(new EventHandler<MouseEvent>() {\n                            @Override\n                            public void handle(MouseEvent event) {\n                                ((Pane) e.getSource()).getChildren().remove(sticky);\n                            }\n                        });\n\n                        sticky.getMove().setOnMouseClicked(new EventHandler<MouseEvent>() {\n                            @Override\n                            public void handle(MouseEvent event) {\n                                //selectedNotes[selected++] = sticky;\n                                selectedNotes.push(sticky);\n                                selected++;\n                                if (selected == 2) {\n                                    movePanes();\n                                }\n                            }\n                        });\n\n                        ((Pane) e.getSource()).getChildren().add(sticky);\n                    }\n                });\n\n                p.setPrefSize(200, 200);\n                notepad.add(p, i, j);\n            }\n        }\n\n        outer.setCenter(notepad);\n\n        primaryStage.setScene(new Scene(outer));\n        primaryStage.setTitle(\"Google Keep v2\");\n        primaryStage.show();\n    }\n\n\n    public void movePanes() {\n        int[] rows = new int[2];\n        int[] cols = new int[2];\n        int i = 0;\n\n        for (Node n : notepad.getChildren()) {\n            for (Node c : ((Pane) n).getChildren()) {\n                if (c instanceof StickyNote && ((StickyNote) c).getMove().isSelected()) {\n                    cols[i] = GridPane.getColumnIndex(n);\n                    rows[i] = GridPane.getRowIndex(n);\n                    i++;\n                    ((Pane)n).getChildren().remove(c);\n                    break;\n                }\n            }\n        }\n\n        for(int x = 0; x < 2; x++){\n            StickyNote s = selectedNotes.pop();\n            s.getMove().setSelected(false);\n            notepad.add(s, cols[x], rows[x]);\n        }\n\n        selected = 0;\n    }\n}",
   "execution_count": null,
   "outputs": []
  },
  {
   "metadata": {},
   "cell_type": "markdown",
   "source": "## Final Product\n\nHere's our notepad app! Our IPO is Friday and we accept Ethereum.\n\n![full notepad](https://i.imgur.com/Nc7jhuX.png)"
  },
  {
   "metadata": {},
   "cell_type": "markdown",
   "source": "Okay, that's way too many notes. Let's delete some.\n\n![less notes](https://i.imgur.com/TdFEmk4.png)"
  },
  {
   "metadata": {},
   "cell_type": "markdown",
   "source": "Just for good measure, let's swap those notes:\n\n![swap](https://i.imgur.com/yvDWjdD.png)"
  }
 ],
 "metadata": {
  "kernelspec": {
   "name": "java",
   "display_name": "Java",
   "language": "java"
  },
  "language_info": {
   "nbconverter_exporter": "",
   "codemirror_mode": "text/x-java",
   "name": "Java",
   "mimetype": "",
   "file_extension": ".java",
   "version": "1.8.0_121"
  },
  "widgets": {
   "application/vnd.jupyter.widget-state+json": {
    "version_major": 2,
    "version_minor": 0,
    "state": {}
   }
  }
 },
 "nbformat": 4,
 "nbformat_minor": 2
}