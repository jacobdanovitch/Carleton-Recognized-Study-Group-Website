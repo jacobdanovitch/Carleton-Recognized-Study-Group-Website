{
 "cells": [
  {
   "cell_type": "markdown",
   "metadata": {},
   "source": [
    "# Data Structures"
   ]
  },
  {
   "cell_type": "markdown",
   "metadata": {},
   "source": [
    "You're given an unsorted array of integers $A$, such that $0 \\leq n < A_{i} < m$. <br/>\n",
    "(that is, you're given an array of integers, and the minimum/maximum values present.)\n",
    "\n",
    "How can you sort it in $O(n)$ time? "
   ]
  },
  {
   "cell_type": "markdown",
   "metadata": {},
   "source": [
    "### Random Array object\n",
    "\n",
    "Let's define our class of a random array of integers. \n",
    "* It extends `ArrayList<Integer>`\n",
    "* It adds 10 random integers\n",
    "* It has getMin/Max methods\n",
    "    * These methods reference `this`\n",
    "    * They also use `java.util.Collections`\n",
    "* It has a basic display method using an inhanced for loop"
   ]
  },
  {
   "cell_type": "code",
   "execution_count": 5,
   "metadata": {},
   "outputs": [
    {
     "data": {
      "text/plain": [
       "com.twosigma.beaker.javash.bkr73e829ce.RandomArray"
      ]
     },
     "execution_count": 5,
     "metadata": {},
     "output_type": "execute_result"
    }
   ],
   "source": [
    "import java.util.ArrayList;\n",
    "import java.util.Random;\n",
    "import java.util.Collections;\n",
    "\n",
    "public class RandomArray extends ArrayList<Integer> {\n",
    "    public RandomArray(int len) {\n",
    "        Random r = new Random();\n",
    "        \n",
    "        for(int i = 0; i < len; i++){\n",
    "            add(r.nextInt(10));\n",
    "        }\n",
    "    }\n",
    "    \n",
    "    public Integer getMin(){\n",
    "        return Collections.min(this);\n",
    "    }\n",
    "    \n",
    "    public Integer getMax(){\n",
    "        return Collections.max(this);\n",
    "    }\n",
    "    \n",
    "    public void display(){\n",
    "        System.out.println(\"Max value is: \"+getMax());\n",
    "        System.out.println(\"Min value is: \"+getMin());\n",
    "\n",
    "        System.out.println();\n",
    "\n",
    "        for(Integer i: this){\n",
    "            System.out.println(i);\n",
    "        }\n",
    "    }\n",
    "}"
   ]
  },
  {
   "cell_type": "markdown",
   "metadata": {},
   "source": [
    "Let's test an example:"
   ]
  },
  {
   "cell_type": "code",
   "execution_count": 2,
   "metadata": {},
   "outputs": [
    {
     "name": "stdout",
     "output_type": "stream",
     "text": [
      "Max value is: 9\n",
      "Min value is: 0\n",
      "\n",
      "7\n",
      "1\n",
      "4\n",
      "7\n",
      "0\n",
      "6\n",
      "1\n",
      "2\n",
      "9\n",
      "6\n"
     ]
    },
    {
     "data": {
      "text/plain": [
       "null"
      ]
     },
     "execution_count": 2,
     "metadata": {},
     "output_type": "execute_result"
    }
   ],
   "source": [
    "RandomArray r = new RandomArray(10);\n",
    "r.display();"
   ]
  },
  {
   "cell_type": "markdown",
   "metadata": {},
   "source": [
    "### Sorting our random array\n",
    "\n",
    "We'll use a hashmap to count the instances of each unique number in the array. Note how we use an enhanced for loop to iterate, and how we handle updating our hashmap."
   ]
  },
  {
   "cell_type": "code",
   "execution_count": 8,
   "metadata": {},
   "outputs": [
    {
     "name": "stdout",
     "output_type": "stream",
     "text": [
      "{0=3, 1=5, 2=5, 3=3, 4=5, 5=7, 6=7, 7=2, 8=3, 9=10}\n"
     ]
    },
    {
     "data": {
      "text/plain": [
       "null"
      ]
     },
     "execution_count": 8,
     "metadata": {},
     "output_type": "execute_result"
    }
   ],
   "source": [
    "import java.util.HashMap;\n",
    "\n",
    "RandomArray r = new RandomArray(50);\n",
    "HashMap<Integer, Integer> counter = new HashMap();\n",
    "\n",
    "for(Integer i : r){\n",
    "    if(counter.containsKey(i)){\n",
    "        counter.put(i, counter.get(i)+1);\n",
    "    }\n",
    "    else{\n",
    "        counter.put(i, 1);\n",
    "    }\n",
    "}\n",
    "\n",
    "System.out.println(counter);"
   ]
  },
  {
   "cell_type": "markdown",
   "metadata": {},
   "source": [
    "Then, we'll create a new ArrayList, and iterate through the keys of our counter hashmap. For each key, we'll add the key to our arraylist the number of times it occurred. We have essentially decomposed the original list, and reconstructed it in a sorted order."
   ]
  },
  {
   "cell_type": "code",
   "execution_count": 11,
   "metadata": {},
   "outputs": [
    {
     "name": "stdout",
     "output_type": "stream",
     "text": [
      "[0, 6, 1, 1, 1, 1, 9, 7, 6, 8, 5, 5, 9, 7, 9]\n",
      "[0, 1, 1, 1, 1, 5, 5, 6, 6, 7, 7, 8, 9, 9, 9]\n"
     ]
    },
    {
     "data": {
      "text/plain": [
       "null"
      ]
     },
     "execution_count": 11,
     "metadata": {},
     "output_type": "execute_result"
    }
   ],
   "source": [
    "import java.util.HashMap;\n",
    "import java.util.ArrayList;\n",
    "\n",
    "RandomArray r = new RandomArray(15);\n",
    "HashMap<Integer, Integer> counter = new HashMap();\n",
    "\n",
    "for(Integer i : r){\n",
    "    if(counter.containsKey(i)){\n",
    "        counter.put(i, counter.get(i)+1);\n",
    "    }\n",
    "    else{\n",
    "        counter.put(i, 1);\n",
    "    }\n",
    "}\n",
    "\n",
    "ArrayList<Integer> sorted = new ArrayList();\n",
    "for(Integer i : counter.keySet()){\n",
    "    for(int j = 0; j < counter.get(i); j++){\n",
    "        sorted.add(i);\n",
    "    }\n",
    "}\n",
    "\n",
    "System.out.println(r);\n",
    "System.out.println(sorted);"
   ]
  },
  {
   "cell_type": "markdown",
   "metadata": {},
   "source": [
    "# Recursion"
   ]
  },
  {
   "cell_type": "code",
   "execution_count": 3,
   "metadata": {},
   "outputs": [
    {
     "data": {
      "text/plain": [
       "com.twosigma.beaker.javash.bkr5811749e.Item"
      ]
     },
     "execution_count": 3,
     "metadata": {},
     "output_type": "execute_result"
    }
   ],
   "source": [
    "public class Item {\n",
    "    public byte    data;\n",
    "    public Item    previous;\n",
    "    public Item    next;\n",
    "\n",
    "    public Item(int d) {\n",
    "        data = (byte)d;\n",
    "        previous = null;\n",
    "        next = null;\n",
    "    }\n",
    "}"
   ]
  },
  {
   "cell_type": "code",
   "execution_count": 4,
   "metadata": {},
   "outputs": [
    {
     "data": {
      "text/plain": [
       "com.twosigma.beaker.javash.bkr5811749e.LinkedList"
      ]
     },
     "execution_count": 4,
     "metadata": {},
     "output_type": "execute_result"
    }
   ],
   "source": [
    "public class LinkedList {\n",
    "    Item head;\n",
    "    Item tail;\n",
    "\n",
    "    public LinkedList() {\n",
    "        head = null;\n",
    "        tail = null;\n",
    "    }\n",
    "\n",
    "    // Add an item to the end of the list\n",
    "    public void add(Item x) {\n",
    "        if (tail == null) {\n",
    "            tail = x;\n",
    "            head = x;\n",
    "        }\n",
    "        else {\n",
    "            tail.next = x;\n",
    "            x.previous = tail;\n",
    "            tail = x;\n",
    "        }\n",
    "    }\n",
    "\n",
    "    // Remove the given item from the list\n",
    "    public void remove(Item x) {\n",
    "        if (x == head) {\n",
    "            if (x == tail) {\n",
    "                head = tail = null;\n",
    "            }\n",
    "            else {\n",
    "                head = x.next;\n",
    "                head.previous = null;\n",
    "            }\n",
    "        }\n",
    "        else {\n",
    "            if (x == tail) {\n",
    "                tail = x.previous;\n",
    "                tail.next = null;\n",
    "            }\n",
    "            else {\n",
    "                x.previous.next = x.next;\n",
    "                x.next.previous = x.previous;\n",
    "            }\n",
    "        }\n",
    "    }\n",
    "\n",
    "    // Return a string representation of the list\n",
    "    public String toString() {\n",
    "        if (head == null)\n",
    "            return \"[EMPTY]\";\n",
    "\n",
    "        String s = \"[H:\";\n",
    "        Item currentItem = head;\n",
    "        while (currentItem != null) {\n",
    "            s += currentItem.data;\n",
    "            if (currentItem != tail)\n",
    "                s += \"]<==>[\";\n",
    "            currentItem = currentItem.next;\n",
    "        }\n",
    "        return s + \":T]\";\n",
    "    }\n",
    "\n",
    "    // Add up the total data in the list\n",
    "    public int totalData() {\n",
    "        if (head == null)\n",
    "            return 0;\n",
    "\n",
    "        int  total = 0;\n",
    "        Item currentItem = head;\n",
    "        while (currentItem != null) {\n",
    "            total += currentItem.data;\n",
    "            currentItem = currentItem.next;\n",
    "        }\n",
    "        return total;\n",
    "    }\n",
    "\n",
    "    // Add up the total data in the list using recursion\n",
    "    public int totalDataRecursive() {\n",
    "        return totalDataRecursive(head);\n",
    "    }\n",
    "\n",
    "    // Add up the total data in the list using recursion\n",
    "    private int totalDataRecursive(Item start) {\n",
    "        if (start == null)\n",
    "            return 0;\n",
    "        return start.data + totalDataRecursive(start.next);\n",
    "    }\n",
    "\n",
    "    // Return a new linked list containing all items with odd data from this list using recursion\n",
    "    public LinkedList oddItems() {\n",
    "        return oddItems(head);\n",
    "    }\n",
    "\n",
    "    // Return all items with odd data in the list using recursion\n",
    "    private LinkedList oddItems(Item start) {\n",
    "        if (start == null)\n",
    "            return new LinkedList();\n",
    "\n",
    "        LinkedList result = oddItems(start.next);\n",
    "\n",
    "        if (start.data %2 != 0)\n",
    "            result.add(new Item(start.data));\n",
    "\n",
    "        return result;\n",
    "    }\n",
    "\n",
    "    // Return all items with odd data in the list using recursion\n",
    "    private LinkedList oddItems2(Item startItem, LinkedList resultList) {\n",
    "        if (startItem == null)\n",
    "            return resultList;\n",
    "\n",
    "        if (startItem.data %2 != 0)\n",
    "            resultList.add(new Item(startItem.data));\n",
    "\n",
    "        return oddItems2(startItem.next, resultList);\n",
    "    }\n",
    "\n",
    "    // Return a new linked list containing all common elements of the two lists\n",
    "    public LinkedList inCommon(LinkedList aList) {\n",
    "        return inCommon(this.head, aList.head, new LinkedList());\n",
    "    }\n",
    "\n",
    "    // Return all items which are common between the two lists\n",
    "    private LinkedList inCommon(Item start1, Item start2, LinkedList result) {\n",
    "        if ((start1 == null) || (start2 == null))\n",
    "            return result;\n",
    "\n",
    "        if (contains(start1,start2.data))\n",
    "            result.add(new Item(start2.data));\n",
    "\n",
    "        return inCommon(start1, start2.next, result);\n",
    "    }\n",
    "\n",
    "    // Return a boolean indicating whether or not the list contains a given item's data\n",
    "    public boolean contains(Item startItem, byte data) {\n",
    "        if (startItem == null)\n",
    "            return false;\n",
    "        if (startItem.data == data)\n",
    "            return true;\n",
    "        else\n",
    "            return contains(startItem.next, data);\n",
    "    }\n",
    "\n",
    "    public boolean isInIncreasingOrder() {\n",
    "        return false;  //. Replace this code with your own\n",
    "    }\n",
    "}\n"
   ]
  },
  {
   "cell_type": "code",
   "execution_count": null,
   "metadata": {},
   "outputs": [],
   "source": [
    "public class LinkedList {\n",
    "    Item head;\n",
    "    Item tail;\n",
    "\n",
    "    public LinkedList() {\n",
    "        head = null;\n",
    "        tail = null;\n",
    "    }\n",
    "\n",
    "    // Add an item to the end of the list\n",
    "    public void add(Item x) {\n",
    "        if (tail == null) {\n",
    "            tail = x;\n",
    "            head = x;\n",
    "        }\n",
    "        else {\n",
    "            tail.next = x;\n",
    "            x.previous = tail;\n",
    "            tail = x;\n",
    "        }\n",
    "    }\n",
    "\n",
    "    // Remove the given item from the list\n",
    "    public void remove(Item x) {\n",
    "        if (x == head) {\n",
    "            if (x == tail) {\n",
    "                head = tail = null;\n",
    "            }\n",
    "            else {\n",
    "                head = x.next;\n",
    "                head.previous = null;\n",
    "            }\n",
    "        }\n",
    "        else {\n",
    "            if (x == tail) {\n",
    "                tail = x.previous;\n",
    "                tail.next = null;\n",
    "            }\n",
    "            else {\n",
    "                x.previous.next = x.next;\n",
    "                x.next.previous = x.previous;\n",
    "            }\n",
    "        }\n",
    "    }\n",
    "\n",
    "    // Return a string representation of the list\n",
    "    public String toString() {\n",
    "        if (head == null)\n",
    "            return \"[EMPTY]\";\n",
    "\n",
    "        String s = \"[H:\";\n",
    "        Item currentItem = head;\n",
    "        while (currentItem != null) {\n",
    "            s += currentItem.data;\n",
    "            if (currentItem != tail)\n",
    "                s += \"]<==>[\";\n",
    "            currentItem = currentItem.next;\n",
    "        }\n",
    "        return s + \":T]\";\n",
    "    }\n",
    "\n",
    "    // Add up the total data in the list\n",
    "    public int totalData() {\n",
    "        if (head == null)\n",
    "            return 0;\n",
    "\n",
    "        int  total = 0;\n",
    "        Item currentItem = head;\n",
    "        while (currentItem != null) {\n",
    "            total += currentItem.data;\n",
    "            currentItem = currentItem.next;\n",
    "        }\n",
    "        return total;\n",
    "    }\n",
    "\n",
    "    // Add up the total data in the list using recursion\n",
    "    public int totalDataRecursive() {\n",
    "        return totalDataRecursive(head);\n",
    "    }\n",
    "\n",
    "    // Add up the total data in the list using recursion\n",
    "    private int totalDataRecursive(Item start) {\n",
    "        if (start == null)\n",
    "            return 0;\n",
    "        return start.data + totalDataRecursive(start.next);\n",
    "    }\n",
    "\n",
    "    // Return a new linked list containing all items with odd data from this list using recursion\n",
    "    public LinkedList oddItems() {\n",
    "        return oddItems(head);\n",
    "    }\n",
    "\n",
    "    // Return all items with odd data in the list using recursion\n",
    "    private LinkedList oddItems(Item start) {\n",
    "        if (start == null)\n",
    "            return new LinkedList();\n",
    "\n",
    "        LinkedList result = oddItems(start.next);\n",
    "\n",
    "        if (start.data %2 != 0)\n",
    "            result.add(new Item(start.data));\n",
    "\n",
    "        return result;\n",
    "    }\n",
    "\n",
    "    // Return all items with odd data in the list using recursion\n",
    "    private LinkedList oddItems2(Item startItem, LinkedList resultList) {\n",
    "        if (startItem == null)\n",
    "            return resultList;\n",
    "\n",
    "        if (startItem.data %2 != 0)\n",
    "            resultList.add(new Item(startItem.data));\n",
    "\n",
    "        return oddItems2(startItem.next, resultList);\n",
    "    }\n",
    "\n",
    "    // Return a new linked list containing all common elements of the two lists\n",
    "    public LinkedList inCommon(LinkedList aList) {\n",
    "        return inCommon(this.head, aList.head, new LinkedList());\n",
    "    }\n",
    "\n",
    "    // Return all items which are common between the two lists\n",
    "    private LinkedList inCommon(Item start1, Item start2, LinkedList result) {\n",
    "        if ((start1 == null) || (start2 == null))\n",
    "            return result;\n",
    "\n",
    "        if (contains(start1,start2.data))\n",
    "            result.add(new Item(start2.data));\n",
    "\n",
    "        return inCommon(start1, start2.next, result);\n",
    "    }\n",
    "\n",
    "    // Return a boolean indicating whether or not the list contains a given item's data\n",
    "    public boolean contains(Item startItem, byte data) {\n",
    "        if (startItem == null)\n",
    "            return false;\n",
    "        if (startItem.data == data)\n",
    "            return true;\n",
    "        else\n",
    "            return contains(startItem.next, data);\n",
    "    }\n",
    "\n",
    "    public boolean isInIncreasingOrder() {\n",
    "        return false;  //. Replace this code with your own\n",
    "    }\n",
    "}"
   ]
  },
  {
   "cell_type": "code",
   "execution_count": 5,
   "metadata": {},
   "outputs": [
    {
     "name": "stdout",
     "output_type": "stream",
     "text": [
      "\n",
      "Here is the list: [EMPTY]\n",
      "The list is sorted: false\n",
      "\n",
      "Here is the list: [H:14:T]\n",
      "The list is sorted: false\n",
      "\n",
      "Here is the list: [H:14]<==>[21:T]\n",
      "The list is sorted: false\n",
      "\n",
      "Here is the list: [H:21]<==>[14:T]\n",
      "The list is sorted: false\n",
      "\n",
      "Here is the list: [H:14]<==>[21]<==>[23]<==>[10:T]\n",
      "The list is sorted: false\n",
      "\n",
      "Here is the list: [H:14]<==>[21]<==>[23]<==>[45]<==>[76]<==>[95]<==>[98:T]\n",
      "The list is sorted: false\n"
     ]
    },
    {
     "data": {
      "text/plain": [
       "null"
      ]
     },
     "execution_count": 5,
     "metadata": {},
     "output_type": "execute_result"
    }
   ],
   "source": [
    "LinkedList list = new LinkedList();\n",
    "System.out.println(\"\\nHere is the list: \" + list);\n",
    "System.out.println(\"The list is sorted: \" + list.isInIncreasingOrder());\n",
    "\n",
    "list = new LinkedList();\n",
    "list.add(new Item(14));\n",
    "System.out.println(\"\\nHere is the list: \" + list);\n",
    "System.out.println(\"The list is sorted: \" + list.isInIncreasingOrder());\n",
    "\n",
    "list = new LinkedList();\n",
    "list.add(new Item(14));\n",
    "list.add(new Item(21));\n",
    "System.out.println(\"\\nHere is the list: \" + list);\n",
    "System.out.println(\"The list is sorted: \" + list.isInIncreasingOrder());\n",
    "\n",
    "list = new LinkedList();\n",
    "list.add(new Item(21));\n",
    "list.add(new Item(14));\n",
    "System.out.println(\"\\nHere is the list: \" + list);\n",
    "System.out.println(\"The list is sorted: \" + list.isInIncreasingOrder());\n",
    "\n",
    "list = new LinkedList();\n",
    "list.add(new Item(14));\n",
    "list.add(new Item(21));\n",
    "list.add(new Item(23));\n",
    "list.add(new Item(10));\n",
    "System.out.println(\"\\nHere is the list: \" + list);\n",
    "System.out.println(\"The list is sorted: \" + list.isInIncreasingOrder());\n",
    "\n",
    "list = new LinkedList();\n",
    "list.add(new Item(14));\n",
    "list.add(new Item(21));\n",
    "list.add(new Item(23));\n",
    "list.add(new Item(45));\n",
    "list.add(new Item(76));\n",
    "list.add(new Item(95));\n",
    "list.add(new Item(98));\n",
    "System.out.println(\"\\nHere is the list: \" + list);\n",
    "System.out.println(\"The list is sorted: \" + list.isInIncreasingOrder());"
   ]
  },
  {
   "cell_type": "code",
   "execution_count": null,
   "metadata": {},
   "outputs": [],
   "source": []
  }
 ],
 "metadata": {
  "kernelspec": {
   "display_name": "Java",
   "language": "java",
   "name": "java"
  },
  "language_info": {
   "codemirror_mode": "text/x-java",
   "file_extension": ".java",
   "mimetype": "",
   "name": "Java",
   "nbconverter_exporter": "",
   "version": "1.8.0_121"
  }
 },
 "nbformat": 4,
 "nbformat_minor": 2
}
