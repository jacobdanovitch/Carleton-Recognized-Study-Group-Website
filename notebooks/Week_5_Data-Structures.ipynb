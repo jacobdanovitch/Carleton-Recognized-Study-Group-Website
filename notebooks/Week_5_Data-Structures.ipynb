{
 "cells": [
  {
   "metadata": {},
   "cell_type": "markdown",
   "source": "# RSG Week 5"
  },
  {
   "metadata": {},
   "cell_type": "markdown",
   "source": "This week, we'll be using different data structures to simulate a hospital. Please note that due to the breadth and depth of the topic, we will be operating under the assumption that you know what these structures are (by definition), and are interested in applying them. To refresh yourself on the definitions, the course notes are always available from Professor Lanthier's website."
  },
  {
   "metadata": {},
   "cell_type": "markdown",
   "source": "We'll start off with some helper classes. You can look inside these if you're curious, **but they're not essential material**. Click [here](#Demo) to skip the helper classes."
  },
  {
   "metadata": {
    "heading_collapsed": true
   },
   "cell_type": "markdown",
   "source": "## Helper Classes"
  },
  {
   "metadata": {
    "hidden": true
   },
   "cell_type": "markdown",
   "source": "### Patient Class"
  },
  {
   "metadata": {
    "hide_input": true,
    "slideshow": {
     "slide_type": "skip"
    },
    "trusted": true,
    "hidden": true
   },
   "cell_type": "code",
   "source": "public class Patient implements Comparable<Patient>{\n    String name;\n    int age;\n    String illness;\n    double severity;\n\n    boolean deceased;\n    boolean released;\n\n    public Patient(){\n\n    }\n\n    public Patient(String n, int a, String i){\n        name = n;\n        age = a;\n        illness = i;\n    }\n\n    /*\n        OVERRIDING\n     */\n\n    public int compareTo(Patient p){\n        return (int)((p.severity - severity)*100);\n    }\n\n    public String toString(){\n        String d = deceased ? (\" (D)\") : (\"\");\n        return String.format(\"Patient: %-25s Age: %-5d Illness: %-15s Severity: %-41.2f\", name+d, age, illness, severity);\n    }\n\n    @Override\n    public boolean equals(Object obj) {\n        return obj instanceof Patient && hashCode() == obj.hashCode();\n    }\n\n    @Override\n    public int hashCode() {\n        return name.hashCode()+((Integer)age).hashCode();\n    }\n}",
   "execution_count": 1,
   "outputs": [
    {
     "data": {
      "text/plain": "com.twosigma.beaker.javash.bkr5bd46cbd.Patient"
     },
     "execution_count": 1,
     "metadata": {},
     "output_type": "execute_result"
    }
   ]
  },
  {
   "metadata": {
    "hidden": true
   },
   "cell_type": "markdown",
   "source": "### Triage Class"
  },
  {
   "metadata": {
    "hide_input": true,
    "slideshow": {
     "slide_type": "skip"
    },
    "trusted": true,
    "hidden": true
   },
   "cell_type": "code",
   "source": "import java.util.PriorityQueue;\nimport java.util.Stack;\n\npublic class Triage extends PriorityQueue<Patient>{\n\n\n    public Triage(){\n\n    }\n\n    public void addToQueue(Patient p){\n        add(p);\n    }\n\n    public Stack<Patient> clearTriage(){\n        Stack<Patient> toBeAdmitted = new Stack<Patient>();\n\n        for(Patient p : this){\n            toBeAdmitted.add(p);\n        }\n        clear();\n\n        return toBeAdmitted;\n    }\n}",
   "execution_count": 2,
   "outputs": [
    {
     "data": {
      "text/plain": "com.twosigma.beaker.javash.bkr5bd46cbd.Triage"
     },
     "execution_count": 2,
     "metadata": {},
     "output_type": "execute_result"
    }
   ]
  },
  {
   "metadata": {
    "hidden": true
   },
   "cell_type": "markdown",
   "source": "### Hospital class"
  },
  {
   "metadata": {
    "hide_input": true,
    "slideshow": {
     "slide_type": "skip"
    },
    "trusted": true,
    "hidden": true
   },
   "cell_type": "code",
   "source": "import java.util.*;\n\npublic class Hospital {\n    HashSet<Patient> patients = new HashSet<Patient>();\n    HashMap<Date, ArrayList<Patient>> visits = new HashMap<Date, ArrayList<Patient>>();\n\n    LinkedList<Patient> beds = new LinkedList<Patient>();\n\n    HashMap<String, Double> illnesses = new HashMap<String, Double>(); // illness, severity (0-10)\n    Triage triage = new Triage();\n\n    public Hospital(){\n\n    }\n\n    public HashSet<Patient> getPatients(){\n        return patients;\n    }\n\n    public void sendToTriage(Date d, Patient p){\n        p.severity = diagnose(p);\n        triage.addToQueue(p);\n\n        if(visits.containsKey(d)){\n            for(Date date: visits.keySet()){\n                if(date.equals(d)){\n                    visits.get(date).add(p);\n                }\n            }\n        }\n        else {\n            ArrayList<Patient> newList = new ArrayList<Patient>();\n            newList.add(p);\n            visits.put(d, newList);\n        }\n    }\n\n    public double severity(String illness){\n        int n = 0;\n        int d = 0;\n        for(ArrayList<Patient> plist : visits.values()){\n            for(Patient p : plist){\n                if(illness.equals(p.illness)){\n                    n++;\n                    if(p.deceased){\n                        d++;\n                    }\n                    else if(p.released){\n                        d--;\n                    }\n                }\n            }\n        }\n        if(n > 0){\n            return (double)d/n;\n        }\n        return 0;\n    }\n\n    public void updateDiagnoses(String illness){\n        if(illnesses.containsKey(illness)){\n            double update = illnesses.get(illness)+severity(illness);\n            illnesses.put(illness, update);\n        }\n        else {\n            illnesses.put(illness, 5.0);\n        }\n\n        for(Patient p : patients){\n            p.severity = diagnose(p);\n        }\n        \n        for(Patient p : triage){\n            p.severity = diagnose(p);\n        }\n    }\n\n    public double diagnose(Patient p){\n        if(illnesses.containsKey(p.illness)) {\n            return illnesses.get(p.illness);\n        }\n        illnesses.put(p.illness, 5.0);\n        return 5.0;\n    }\n\n    public void admitPatients(){\n        Stack<Patient> toBeAdmitted = triage.clearTriage();\n        while(!toBeAdmitted.empty()){\n            Patient p = toBeAdmitted.pop();\n            patients.add(p);\n            beds.add(p);\n        }\n    }\n\n    public Patient findPatient(String name){\n        for(Patient p : patients){\n            if(name.equals(p.name)){\n                return p;\n            }\n        }\n        return null;\n    }\n\n    public void patientDeceased(String name){\n        Patient p = findPatient(name);\n        if(p != null){\n            p.deceased = true;\n            updateDiagnoses(p.illness);\n            beds.remove(p);\n        }\n    }\n\n    public void patientReleased(String name){\n        Patient p = findPatient(name);\n        if(p != null){\n            p.released = true;\n            updateDiagnoses(p.illness);\n            beds.remove(p);\n        }\n    }\n\n    public double getIllnessSeverity(String illness){\n        return illnesses.get(illness);\n    }\n\n    public Integer getBed(Patient p){\n        Integer bed = beds.indexOf(p)+1;\n        if(bed != -1){\n            return bed;\n        }\n        return null;\n    }\n\n    public void showIllnesses(){\n        for(String s: illnesses.keySet()){\n            System.out.println(String.format(\"Illness: %-30s Severity: %1.2f\", s, illnesses.get(s)));\n        }\n    }\n\n    public void showTriage(){\n        if(triage.size() == 0){\n            System.out.println(\"Exception: Triage empty\");\n        }\n        for(Patient p : triage){\n            System.out.println(p);\n        }\n    }\n\n    public void showAdmitted(){\n        for(Patient p : beds){\n            System.out.println(String.format(\"Bed %02d: %s\", getBed(p), p));\n        }\n    }\n\n    public void showPreviousVisits(String name){\n        Patient pat = findPatient(name);\n        if(pat != null){\n            System.out.println(String.format(\"Visits by %s (Age %d)\", pat.name, pat.age));\n            for(Date d : visits.keySet()){\n                ArrayList<Patient> plist = visits.get(d);\n                for(Patient p : plist){\n                    if(p.equals(pat)){\n                        System.out.println(String.format(\"Date: %-30s\", d.toString()));\n                    }\n                }\n            }\n        }\n    }\n    \n    public void showPatientRecords(){\n        for(Patient p : patients) {\n            System.out.println(String.format(\"Patient: %-25s Age: %-5d\", p.name, p.age));\n        }\n    }\n}",
   "execution_count": 3,
   "outputs": [
    {
     "data": {
      "text/plain": "com.twosigma.beaker.javash.bkr5bd46cbd.Hospital"
     },
     "execution_count": 3,
     "metadata": {},
     "output_type": "execute_result"
    }
   ]
  },
  {
   "metadata": {
    "hidden": true
   },
   "cell_type": "markdown",
   "source": "### Sample patients"
  },
  {
   "metadata": {
    "hide_input": true,
    "slideshow": {
     "slide_type": "skip"
    },
    "trusted": true,
    "hidden": true
   },
   "cell_type": "code",
   "source": "import java.util.ArrayList;\nimport java.util.Date;\nimport java.util.GregorianCalendar;\nimport java.util.HashMap;\n\npublic class Ex {\n    public static Hospital h = new Hospital();\n    \n    public static HashMap<Date, ArrayList<Patient>> example1(){\n        HashMap<Date, ArrayList<Patient>> patients = new HashMap<Date, ArrayList<Patient>>();\n        ArrayList<Patient> patientList = new ArrayList<Patient>();\n        Date date = new GregorianCalendar(2018, GregorianCalendar.JANUARY, 5).getTime();\n\n        patientList.add(new Patient(\"Mary Measles\", 47, \"Chest pains\"));\n        patientList.add(new Patient(\"Fred Ziffle\", 56, \"Headaches\" ));\n        patientList.add(new Patient(\"Blaine Little\", 92, \"Heart attack\"));\n        patientList.add(new Patient(\"Bob Pointer\", 86, \"Heart attack\"));\n        patientList.add(new Patient(\"Greg Martell\", 56, \"Heart attack\"));\n\n        patients.put(date, patientList);\n        return patients;\n    }\n\n    public static HashMap<Date, ArrayList<Patient>> example2(){\n        HashMap<Date, ArrayList<Patient>> patients = new HashMap<Date, ArrayList<Patient>>();\n        ArrayList<Patient> patientList = new ArrayList<Patient>();\n        Date date = new GregorianCalendar(2018, GregorianCalendar.JANUARY, 6).getTime();\n\n        patientList.add(new Patient(\"Martha Stewart\", 65, \"Heart attack\"));\n        patientList.add(new Patient(\"John Junior\", 26, \"Weak knees\"));\n        patientList.add(new Patient(\"Jane Doe\", 34, \"Flu\"));\n        patientList.add(new Patient(\"Herb Platt\", 32, \"Nausea\"));\n        patientList.add(new Patient(\"Donald Duck\", 46, \"Chest pains\"));\n\n        patients.put(date, patientList);\n        return patients;\n    }\n\n    public static HashMap<Date, ArrayList<Patient>> example3(){\n        HashMap<Date, ArrayList<Patient>> patients = new HashMap<Date, ArrayList<Patient>>();\n        ArrayList<Patient> patientList = new ArrayList<Patient>();\n        Date date = new GregorianCalendar(2018, GregorianCalendar.JANUARY, 7).getTime();\n\n        patientList.add(new Patient(\"Mary Measles\", 47, \"Nausea\"));\n        patientList.add(new Patient(\"Lark Manthier\", 48, \"Flu\"));\n\n        patients.put(date, patientList);\n        return patients;\n    }\n    \n    public static void triagePatients(int num){\n        HashMap<Date, ArrayList<Patient>> patients = new HashMap();\n        switch (num){\n            case 1: patients = example1();\n                break;\n            case 2: patients = example2();\n                break;\n            case 3: patients = example3();\n                break;\n        }\n        \n        for(Date d : patients.keySet()){\n            ArrayList<Patient> plist = patients.get(d);\n            for(Patient p : plist){\n                h.sendToTriage(d, p);\n            }\n        }\n    }\n}",
   "execution_count": 4,
   "outputs": [
    {
     "data": {
      "text/plain": "com.twosigma.beaker.javash.bkr5bd46cbd.Ex"
     },
     "execution_count": 4,
     "metadata": {},
     "output_type": "execute_result"
    }
   ]
  },
  {
   "metadata": {
    "hidden": true
   },
   "cell_type": "markdown",
   "source": "For reference, here are the key points to know about these classes:\n\n* Patients have names, ages, deceased and released statuses, and illnesses\n    * We say patients are equal if their _name_ and _age_ are equal - not their illness (more on this later)\n* Hospitals have:\n    * Patient records\n        * These records are stored as a HashSet. This is because we don't need a new record generated for each patient every time they visit the hospital - we already have their information (no duplicates). \n    * Visit records\n        * These records are stored as a HashMap - mapping a date to a list of patients who visited that date. These lists can contain duplicates, as patients can visit more than once.\n    * Records of which patient is in which bed\n        * These records are stored as a Linked List - we do this because our hospital's beds are sorted linearly.\n    * Illness records\n        * These records are stored as a HashMap - mapping a String (the illness) to an int (the severity of the illness). We do this to quickly access illness severities, and because we don't want duplicate illnesses. \n    * A triage system\n        * Triages are great examples of Queues - specifically, priority queues (more on this shortly)."
  },
  {
   "metadata": {},
   "cell_type": "markdown",
   "source": "## Demo"
  },
  {
   "metadata": {},
   "cell_type": "markdown",
   "source": "### Triaging"
  },
  {
   "metadata": {},
   "cell_type": "markdown",
   "source": "When you go to a hospital, you start off with by going through the triage process. Likewise, we'll put our first set of exapmle patients through the triage process. How do we do this? \n\ntriagePatients() is simply a small helper method I've written to generate examples. What's important is that it calls a method in our hospital class, sendToTriage(). This takes a Date `d` and a Patient `p`. Here's how we begin:\n\n```java\npublic void sendToTriage(Date d, Patient p){\n        p.severity = diagnose(p);\n        triage.addToQueue(p);\n    }\n```\n\nLet's take a look inside `diagnose(p)`:\n```java\npublic double diagnose(Patient p){\n        if(illnesses.containsKey(p.illness)) {\n            return illnesses.get(p.illness);\n        }\n        illnesses.put(p.illness, 5.0);\n        return 5.0;\n    }\n```\n\nFirst, we check if our hashmap contains the patient's illness. If it does, we simply return the severity. If not, we add it to the hashmap with some default value (let's do `5.0`).\n\n"
  },
  {
   "metadata": {},
   "cell_type": "markdown",
   "source": "Now let's jump into the rest of the code. We use similar logic with our `visits` hashmap. We check if the date already exists: if it does, we add the patient to the list of visits that day; if it doesn't, we add the date with a 1-patient list (as that patient is the first visitor). That's all that's happening here!\n\n```java\npublic void sendToTriage(Date d, Patient p){\n        p.severity = diagnose(p);\n        triage.addToQueue(p);\n\n        if(visits.containsKey(d)){\n            for(Date date: visits.keySet()){\n                if(date.equals(d)){\n                    visits.get(date).add(p);\n                }\n            }\n        }\n        else {\n            ArrayList<Patient> newList = new ArrayList<Patient>();\n            newList.add(p);\n            visits.put(d, newList);\n        }\n    }\n```"
  },
  {
   "metadata": {
    "trusted": true
   },
   "cell_type": "code",
   "source": "System.out.println(\"Triage some patients:\");\n\nEx.triagePatients(1);\nEx.h.showTriage();",
   "execution_count": 5,
   "outputs": [
    {
     "name": "stdout",
     "output_type": "stream",
     "text": "Triage some patients:\nPatient: Mary Measles              Age: 47    Illness: Chest pains     Severity: 5.00                                     \nPatient: Fred Ziffle               Age: 56    Illness: Headaches       Severity: 5.00                                     \nPatient: Blaine Little             Age: 92    Illness: Heart attack    Severity: 5.00                                     \nPatient: Bob Pointer               Age: 86    Illness: Heart attack    Severity: 5.00                                     \nPatient: Greg Martell              Age: 56    Illness: Heart attack    Severity: 5.00                                     \n"
    },
    {
     "data": {
      "text/plain": "null"
     },
     "execution_count": 5,
     "metadata": {},
     "output_type": "execute_result"
    }
   ]
  },
  {
   "metadata": {},
   "cell_type": "markdown",
   "source": "Great, our patients have been triaged. As a triage is a priority queue, they should be sorted by the severity of the illnesses. Let's take a look:"
  },
  {
   "metadata": {
    "trusted": true
   },
   "cell_type": "code",
   "source": "System.out.println(\"Illness severities:\");\nEx.h.showIllnesses();",
   "execution_count": 6,
   "outputs": [
    {
     "name": "stdout",
     "output_type": "stream",
     "text": "Illness severities:\nIllness: Chest pains                    Severity: 5.00\nIllness: Headaches                      Severity: 5.00\nIllness: Heart attack                   Severity: 5.00\n"
    },
    {
     "data": {
      "text/plain": "null"
     },
     "execution_count": 6,
     "metadata": {},
     "output_type": "execute_result"
    }
   ]
  },
  {
   "metadata": {},
   "cell_type": "markdown",
   "source": "Of course, our triage isn't really sorted right now - these are all new illnesses, so they all begin at the default values."
  },
  {
   "metadata": {},
   "cell_type": "markdown",
   "source": "### Admitting Patients"
  },
  {
   "metadata": {},
   "cell_type": "markdown",
   "source": "Next, let's admit our patients from triage. Because our triage is a priority queue, we know that the order in which they'll be admitted is in order of how severe their illnesses are.\n\nWe can do this using a Stack. We call our triage's clearTriage() method:\n\n```java\npublic Stack<Patient> clearTriage(){\n        Stack<Patient> toBeAdmitted = new Stack<Patient>();\n\n        for(Patient p : this){\n            toBeAdmitted.add(p);\n        }\n        clear();\n\n        return toBeAdmitted;\n    }\n```\n\nWe iterate through our triage queue (`this`) and add each Patient to the stack. We then clear the queue and return the Stack.\n\nNote: We use this strategy because we can't simply add to our Stack and remove them from the queue, inside the for loop. This will be a _concurrent modification exception_. "
  },
  {
   "metadata": {},
   "cell_type": "markdown",
   "source": "With our Stack, we pop each patient, and add them to our records. \n\n```java\npublic void admitPatients(){\n        Stack<Patient> toBeAdmitted = triage.clearTriage();\n        while(!toBeAdmitted.empty()){\n            Patient p = toBeAdmitted.pop();\n            patients.add(p);\n            beds.add(p);\n        }\n    }\n```"
  },
  {
   "metadata": {
    "trusted": true
   },
   "cell_type": "code",
   "source": "Ex.h.admitPatients();\nEx.h.showAdmitted();",
   "execution_count": 7,
   "outputs": [
    {
     "name": "stdout",
     "output_type": "stream",
     "text": "Bed 01: Patient: Greg Martell              Age: 56    Illness: Heart attack    Severity: 5.00                                     \nBed 02: Patient: Bob Pointer               Age: 86    Illness: Heart attack    Severity: 5.00                                     \nBed 03: Patient: Blaine Little             Age: 92    Illness: Heart attack    Severity: 5.00                                     \nBed 04: Patient: Fred Ziffle               Age: 56    Illness: Headaches       Severity: 5.00                                     \nBed 05: Patient: Mary Measles              Age: 47    Illness: Chest pains     Severity: 5.00                                     \n"
    },
    {
     "data": {
      "text/plain": "null"
     },
     "execution_count": 7,
     "metadata": {},
     "output_type": "execute_result"
    }
   ]
  },
  {
   "metadata": {},
   "cell_type": "markdown",
   "source": "And now our triage should be empty:"
  },
  {
   "metadata": {
    "trusted": true
   },
   "cell_type": "code",
   "source": "Ex.h.showTriage();",
   "execution_count": 8,
   "outputs": [
    {
     "name": "stdout",
     "output_type": "stream",
     "text": "Exception: Triage empty\n"
    },
    {
     "data": {
      "text/plain": "null"
     },
     "execution_count": 8,
     "metadata": {},
     "output_type": "execute_result"
    }
   ]
  },
  {
   "metadata": {},
   "cell_type": "markdown",
   "source": "Let's add some more patients."
  },
  {
   "metadata": {
    "trusted": true
   },
   "cell_type": "code",
   "source": "Ex.triagePatients(2);\nEx.h.showTriage();",
   "execution_count": 9,
   "outputs": [
    {
     "name": "stdout",
     "output_type": "stream",
     "text": "Patient: Martha Stewart            Age: 65    Illness: Heart attack    Severity: 5.00                                     \nPatient: John Junior               Age: 26    Illness: Weak knees      Severity: 5.00                                     \nPatient: Jane Doe                  Age: 34    Illness: Flu             Severity: 5.00                                     \nPatient: Herb Platt                Age: 32    Illness: Nausea          Severity: 5.00                                     \nPatient: Donald Duck               Age: 46    Illness: Chest pains     Severity: 5.00                                     \n"
    },
    {
     "data": {
      "text/plain": "null"
     },
     "execution_count": 9,
     "metadata": {},
     "output_type": "execute_result"
    }
   ]
  },
  {
   "metadata": {},
   "cell_type": "markdown",
   "source": "We see we've got some new illnesses."
  },
  {
   "metadata": {
    "trusted": true
   },
   "cell_type": "code",
   "source": "Ex.h.showIllnesses();",
   "execution_count": 10,
   "outputs": [
    {
     "name": "stdout",
     "output_type": "stream",
     "text": "Illness: Chest pains                    Severity: 5.00\nIllness: Headaches                      Severity: 5.00\nIllness: Nausea                         Severity: 5.00\nIllness: Weak knees                     Severity: 5.00\nIllness: Heart attack                   Severity: 5.00\nIllness: Flu                            Severity: 5.00\n"
    },
    {
     "data": {
      "text/plain": "null"
     },
     "execution_count": 10,
     "metadata": {},
     "output_type": "execute_result"
    }
   ]
  },
  {
   "metadata": {},
   "cell_type": "markdown",
   "source": "Unfortunately, one of our patients has died from his heart attack. Let's see how this affects the severity:"
  },
  {
   "metadata": {
    "trusted": true
   },
   "cell_type": "code",
   "source": "Ex.h.patientDeceased(\"Greg Martell\");\nSystem.out.println(\"Heart attack severity:\\t\"+Ex.h.getIllnessSeverity(\"Heart attack\"));",
   "execution_count": 11,
   "outputs": [
    {
     "name": "stdout",
     "output_type": "stream",
     "text": "Heart attack severity:\t5.25\n"
    },
    {
     "data": {
      "text/plain": "null"
     },
     "execution_count": 11,
     "metadata": {},
     "output_type": "execute_result"
    }
   ]
  },
  {
   "metadata": {},
   "cell_type": "markdown",
   "source": "We handle patient death or release with a fairly simple method. We simply find them, set their status to deceased, update our illness severities (content isn't relevant), and remove them from our linked list of beds. We do the same thing for releasing patients, but we set their \"released\" status instead.\n\n```java\npublic void patientDeceased(String name){\n        Patient p = findPatient(name);\n        if(p != null){\n            p.deceased = true;\n            updateDiagnoses(p.illness);\n            beds.remove(p);\n        }\n    }\n```"
  },
  {
   "metadata": {},
   "cell_type": "markdown",
   "source": "Now, let's build on this a bit. Let's release all patients with chest pains. We'll write our stack, use an enhanced for loop to add all patients with chest pains, and then release them with a while loop. Once again, _we cannot remove them in our for loop - this is a concurrent modification error_. "
  },
  {
   "metadata": {
    "trusted": true
   },
   "cell_type": "code",
   "source": "import java.util.Stack;\n\nStack<Patient> toBeReleased = new Stack<Patient>();\nfor(Patient p : Ex.h.getPatients()){\n    if(p.illness.equals(\"Chest pains\"))\n        toBeReleased.push(p);\n}\nwhile(!toBeReleased.empty()){\n    Ex.h.patientReleased(toBeReleased.pop().name);\n}\n\nEx.h.showAdmitted();",
   "execution_count": 12,
   "outputs": [
    {
     "name": "stdout",
     "output_type": "stream",
     "text": "Bed 01: Patient: Bob Pointer               Age: 86    Illness: Heart attack    Severity: 5.25                                     \nBed 02: Patient: Blaine Little             Age: 92    Illness: Heart attack    Severity: 5.25                                     \nBed 03: Patient: Fred Ziffle               Age: 56    Illness: Headaches       Severity: 5.00                                     \n"
    },
    {
     "data": {
      "text/plain": "null"
     },
     "execution_count": 12,
     "metadata": {},
     "output_type": "execute_result"
    }
   ]
  },
  {
   "metadata": {},
   "cell_type": "markdown",
   "source": "Now, let's take another look at our triage. So far:\n\n* A patient has died of a heart attack\n* Several patients have survived their chest pains and released\n\nSo, our triage should now be sorted by illness severities. Let's see what these are:"
  },
  {
   "metadata": {
    "trusted": true
   },
   "cell_type": "code",
   "source": "Ex.h.showIllnesses();",
   "execution_count": 13,
   "outputs": [
    {
     "name": "stdout",
     "output_type": "stream",
     "text": "Illness: Chest pains                    Severity: 4.50\nIllness: Headaches                      Severity: 5.00\nIllness: Nausea                         Severity: 5.00\nIllness: Weak knees                     Severity: 5.00\nIllness: Heart attack                   Severity: 5.25\nIllness: Flu                            Severity: 5.00\n"
    },
    {
     "data": {
      "text/plain": "null"
     },
     "execution_count": 13,
     "metadata": {},
     "output_type": "execute_result"
    }
   ]
  },
  {
   "metadata": {},
   "cell_type": "markdown",
   "source": "And our triage:"
  },
  {
   "metadata": {
    "trusted": true
   },
   "cell_type": "code",
   "source": "Ex.h.showTriage();",
   "execution_count": 14,
   "outputs": [
    {
     "name": "stdout",
     "output_type": "stream",
     "text": "Patient: Martha Stewart            Age: 65    Illness: Heart attack    Severity: 5.25                                     \nPatient: John Junior               Age: 26    Illness: Weak knees      Severity: 5.00                                     \nPatient: Jane Doe                  Age: 34    Illness: Flu             Severity: 5.00                                     \nPatient: Herb Platt                Age: 32    Illness: Nausea          Severity: 5.00                                     \nPatient: Donald Duck               Age: 46    Illness: Chest pains     Severity: 4.50                                     \n"
    },
    {
     "data": {
      "text/plain": "null"
     },
     "execution_count": 14,
     "metadata": {},
     "output_type": "execute_result"
    }
   ]
  },
  {
   "metadata": {},
   "cell_type": "markdown",
   "source": "It worked! They're sorted in order of their illness severity. How did we accomplish this?"
  },
  {
   "metadata": {},
   "cell_type": "markdown",
   "source": "### Sorting by comparison"
  },
  {
   "metadata": {},
   "cell_type": "markdown",
   "source": "We do this by overriding the compareTo method. As professor Lanthier demonstrated, we take in a Patient object, and compare their severity to its own.\n\n```java\npublic int compareTo(Patient p){\n        return (int)((p.severity - severity)*100);\n    }\n```"
  },
  {
   "metadata": {},
   "cell_type": "markdown",
   "source": "Let's admit all the patients in our triage."
  },
  {
   "metadata": {
    "trusted": true
   },
   "cell_type": "code",
   "source": "Ex.h.admitPatients();\nEx.h.showAdmitted();",
   "execution_count": 15,
   "outputs": [
    {
     "name": "stdout",
     "output_type": "stream",
     "text": "Bed 01: Patient: Bob Pointer               Age: 86    Illness: Heart attack    Severity: 5.25                                     \nBed 02: Patient: Blaine Little             Age: 92    Illness: Heart attack    Severity: 5.25                                     \nBed 03: Patient: Fred Ziffle               Age: 56    Illness: Headaches       Severity: 5.00                                     \nBed 04: Patient: Donald Duck               Age: 46    Illness: Chest pains     Severity: 4.50                                     \nBed 05: Patient: Herb Platt                Age: 32    Illness: Nausea          Severity: 5.00                                     \nBed 06: Patient: Jane Doe                  Age: 34    Illness: Flu             Severity: 5.00                                     \nBed 07: Patient: John Junior               Age: 26    Illness: Weak knees      Severity: 5.00                                     \nBed 08: Patient: Martha Stewart            Age: 65    Illness: Heart attack    Severity: 5.25                                     \n"
    },
    {
     "data": {
      "text/plain": "null"
     },
     "execution_count": 15,
     "metadata": {},
     "output_type": "execute_result"
    }
   ]
  },
  {
   "metadata": {},
   "cell_type": "markdown",
   "source": "And now admit our last example:"
  },
  {
   "metadata": {
    "trusted": true
   },
   "cell_type": "code",
   "source": "Ex.triagePatients(3);\nEx.h.admitPatients();\nEx.h.showAdmitted();",
   "execution_count": 16,
   "outputs": [
    {
     "name": "stdout",
     "output_type": "stream",
     "text": "Bed 01: Patient: Bob Pointer               Age: 86    Illness: Heart attack    Severity: 5.25                                     \nBed 02: Patient: Blaine Little             Age: 92    Illness: Heart attack    Severity: 5.25                                     \nBed 03: Patient: Fred Ziffle               Age: 56    Illness: Headaches       Severity: 5.00                                     \nBed 04: Patient: Donald Duck               Age: 46    Illness: Chest pains     Severity: 4.50                                     \nBed 05: Patient: Herb Platt                Age: 32    Illness: Nausea          Severity: 5.00                                     \nBed 06: Patient: Jane Doe                  Age: 34    Illness: Flu             Severity: 5.00                                     \nBed 07: Patient: John Junior               Age: 26    Illness: Weak knees      Severity: 5.00                                     \nBed 08: Patient: Martha Stewart            Age: 65    Illness: Heart attack    Severity: 5.25                                     \nBed 09: Patient: Lark Manthier             Age: 48    Illness: Flu             Severity: 5.00                                     \nBed 10: Patient: Mary Measles              Age: 47    Illness: Nausea          Severity: 5.00                                     \n"
    },
    {
     "data": {
      "text/plain": "null"
     },
     "execution_count": 16,
     "metadata": {},
     "output_type": "execute_result"
    }
   ]
  },
  {
   "metadata": {},
   "cell_type": "markdown",
   "source": "It looks like Mary is back, and this time she has nausea; not a good week for Mary. We can look through her previous visits:"
  },
  {
   "metadata": {
    "trusted": true
   },
   "cell_type": "code",
   "source": "Ex.h.showPreviousVisits(\"Mary Measles\");",
   "execution_count": 17,
   "outputs": [
    {
     "name": "stdout",
     "output_type": "stream",
     "text": "Visits by Mary Measles (Age 47)\nDate: Fri Jan 05 00:00:00 EST 2018  \nDate: Sun Jan 07 00:00:00 EST 2018  \n"
    },
    {
     "data": {
      "text/plain": "null"
     },
     "execution_count": 17,
     "metadata": {},
     "output_type": "execute_result"
    }
   ]
  },
  {
   "metadata": {},
   "cell_type": "markdown",
   "source": "However, when we look through our record of patients, there exists only one instance of her!"
  },
  {
   "metadata": {
    "trusted": true
   },
   "cell_type": "code",
   "source": "Ex.h.showPatientRecords();",
   "execution_count": 18,
   "outputs": [
    {
     "name": "stdout",
     "output_type": "stream",
     "text": "Patient: Fred Ziffle               Age: 56   \nPatient: Greg Martell              Age: 56   \nPatient: Mary Measles              Age: 47   \nPatient: Bob Pointer               Age: 86   \nPatient: Lark Manthier             Age: 48   \nPatient: Herb Platt                Age: 32   \nPatient: Donald Duck               Age: 46   \nPatient: John Junior               Age: 26   \nPatient: Blaine Little             Age: 92   \nPatient: Jane Doe                  Age: 34   \nPatient: Martha Stewart            Age: 65   \n"
    },
    {
     "data": {
      "text/plain": "null"
     },
     "execution_count": 18,
     "metadata": {},
     "output_type": "execute_result"
    }
   ]
  },
  {
   "metadata": {},
   "cell_type": "markdown",
   "source": "### Patient equality"
  },
  {
   "metadata": {},
   "cell_type": "markdown",
   "source": "We as people have an inuitive ability to compare subjectively; a computer, however, does not. Java needs an explicit way to compare the equality of two objects. It does so using hashcodes. As Professor Lanthier's notes state, we define equality by overriding the hashcode method, as the sum of the hashcodes for the attributes we use to define quality:\n\n```java\npublic int hashCode() {\n        return name.hashCode()+((Integer)age).hashCode();\n    }\n```\n\nWe must cast age to an Integer as primitive types do not have hashcodes."
  },
  {
   "metadata": {},
   "cell_type": "markdown",
   "source": "## Takeaways"
  },
  {
   "metadata": {},
   "cell_type": "markdown",
   "source": "This is a lot to cover, so let's summarize:\n\n* ArrayLists\n    * Flexible lists of data; Arrays, but easier\n* Stacks and Queues\n    * For when order matters\n* HashMaps\n    * When you want to access values easily by some associated, known key\n    * No duplicate keys; Can have duplicate values\n    * Not ordered!\n* Sets\n    * No duplicates\n    * TreeSet for sorted; HashSet for unsorted\n* Linked Lists\n    * Linear collection of data; kind of like an ArrayList \n\nRemember not to modify while you iterate!"
  }
 ],
 "metadata": {
  "kernelspec": {
   "name": "java",
   "display_name": "Java",
   "language": "java"
  },
  "language_info": {
   "nbconverter_exporter": "",
   "codemirror_mode": "text/x-java",
   "name": "Java",
   "mimetype": "",
   "file_extension": ".java",
   "version": "1.8.0_121"
  },
  "toc": {
   "nav_menu": {},
   "number_sections": false,
   "sideBar": true,
   "skip_h1_title": false,
   "title_cell": "Table of Contents",
   "title_sidebar": "Contents",
   "toc_cell": false,
   "toc_position": {},
   "toc_section_display": true,
   "toc_window_display": false
  },
  "widgets": {
   "application/vnd.jupyter.widget-state+json": {
    "version_major": 2,
    "version_minor": 0,
    "state": {}
   }
  }
 },
 "nbformat": 4,
 "nbformat_minor": 2
}